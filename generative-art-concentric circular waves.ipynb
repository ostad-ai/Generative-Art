{
 "cells": [
  {
   "cell_type": "markdown",
   "metadata": {},
   "source": [
    "### Generative Art: Concentric circular waves\n",
    "<br> by Hamed Shah-hosseini, Twitter:@chekaad, Instagram:@ostad.ai\n",
    "<br>https://github.com/ostad-ai/Generative-Art"
   ]
  },
  {
   "cell_type": "code",
   "execution_count": 1,
   "metadata": {},
   "outputs": [],
   "source": [
    "import numpy as np; from matplotlib import pyplot as plt\n",
    "from numba import njit,prange; from math import sin,atan2,sqrt\n",
    "from ipywidgets import interact"
   ]
  },
  {
   "cell_type": "code",
   "execution_count": 2,
   "metadata": {},
   "outputs": [
    {
     "data": {
      "application/vnd.jupyter.widget-view+json": {
       "model_id": "e2c9dc0421df468bad541b649198282e",
       "version_major": 2,
       "version_minor": 0
      },
      "text/plain": [
       "interactive(children=(FloatSlider(value=11.0, description='freq', max=21.0, min=1.0, step=2.0), Output()), _do…"
      ]
     },
     "metadata": {},
     "output_type": "display_data"
    },
    {
     "data": {
      "text/plain": [
       "<function __main__.run(freq)>"
      ]
     },
     "execution_count": 2,
     "metadata": {},
     "output_type": "execute_result"
    }
   ],
   "source": [
    "width,height=640,480; aspect=width/height\n",
    "image=np.zeros((height,width),dtype='int')\n",
    "@njit\n",
    "def circle_like(freq,image):\n",
    "    uv=np.ones(2)\n",
    "    for x in prange(width):\n",
    "        for y in prange(height):\n",
    "            uv[:2]=x/width,y/height; uv=2*uv-1.;uv[0]*=aspect\n",
    "            d=sqrt(uv[0]**2+uv[1]**2); \n",
    "            angle=atan2(uv[1],uv[0]);d+=.1*sin(15*angle)\n",
    "            image[y,x]=int(255*abs(sin(freq*d)))\n",
    "def run(freq):\n",
    "    circle_like(freq,image); plt.imshow(image,cmap='gray')\n",
    "    plt.axis('off');plt.show()    \n",
    "interact(run,freq=(1.,21.,2.))"
   ]
  },
  {
   "cell_type": "code",
   "execution_count": null,
   "metadata": {},
   "outputs": [],
   "source": []
  }
 ],
 "metadata": {
  "kernelspec": {
   "display_name": "Python 3",
   "language": "python",
   "name": "python3"
  },
  "language_info": {
   "codemirror_mode": {
    "name": "ipython",
    "version": 3
   },
   "file_extension": ".py",
   "mimetype": "text/x-python",
   "name": "python",
   "nbconvert_exporter": "python",
   "pygments_lexer": "ipython3",
   "version": "3.8.3"
  }
 },
 "nbformat": 4,
 "nbformat_minor": 5
}

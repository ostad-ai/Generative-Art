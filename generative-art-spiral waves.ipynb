{
 "cells": [
  {
   "cell_type": "markdown",
   "id": "86f4ceb1",
   "metadata": {},
   "source": [
    "#### Generative Art: Spiral waves\n",
    "by Hamed Shah-Hosseini, Twitter:@chekaad, Instagram:@ostad.ai\n",
    "<br>https://github.com/ostad-ai/Generative-Art"
   ]
  },
  {
   "cell_type": "code",
   "execution_count": 1,
   "id": "e2cea1c3",
   "metadata": {},
   "outputs": [],
   "source": [
    "import numpy as np \n",
    "from matplotlib import pyplot as plt\n",
    "from numba import njit,prange \n",
    "from math import sin,atan2,sqrt,pi\n",
    "from ipywidgets import interact"
   ]
  },
  {
   "cell_type": "code",
   "execution_count": 2,
   "id": "fdf8ce02",
   "metadata": {},
   "outputs": [
    {
     "data": {
      "application/vnd.jupyter.widget-view+json": {
       "model_id": "744771fcb16c4934b7b1efabfc8f62c9",
       "version_major": 2,
       "version_minor": 0
      },
      "text/plain": [
       "interactive(children=(FloatSlider(value=5.0, description='Nspiral', max=10.0, min=1.0, step=1.0), FloatSlider(…"
      ]
     },
     "metadata": {},
     "output_type": "display_data"
    },
    {
     "data": {
      "text/plain": [
       "<function __main__.run(Nspiral, scale)>"
      ]
     },
     "execution_count": 2,
     "metadata": {},
     "output_type": "execute_result"
    }
   ],
   "source": [
    "width,height=600,200; aspect=width/height\n",
    "image=np.zeros((height,width),dtype='int')\n",
    "@njit\n",
    "def smoothstep(low,high,x):\n",
    "    t=(x-low)/(high-low); return t*t*(3.-2*t)\n",
    "@njit\n",
    "def fract(x): return x-int(x)\n",
    "@njit\n",
    "def circle_like(Nspiral,scale,image):\n",
    "    uv=np.zeros(2)\n",
    "    for x in prange(width):\n",
    "        for y in prange(height):\n",
    "            uv[:2]=x/width,y/height;uv-=.5;uv[0]*=aspect;uv*=scale \n",
    "            d=sqrt(uv[0]**2+uv[1]**2);angle=atan2(uv[1],uv[0])\n",
    "            d-=angle/(2*pi)-.5; d+=.1*sin(13*angle);d=fract(Nspiral*d)\n",
    "            image[y,x]=int(255*smoothstep(-.2,.2,d))\n",
    "def run(Nspiral,scale):\n",
    "    circle_like(Nspiral,scale,image); plt.imshow(image,cmap='gray')\n",
    "    plt.axis('off');plt.show()    \n",
    "interact(run,Nspiral=(1.,10.,1.),scale=(1.,10.,.5))"
   ]
  },
  {
   "cell_type": "code",
   "execution_count": null,
   "id": "8c1b5b8e",
   "metadata": {},
   "outputs": [],
   "source": []
  }
 ],
 "metadata": {
  "kernelspec": {
   "display_name": "Python 3 (ipykernel)",
   "language": "python",
   "name": "python3"
  },
  "language_info": {
   "codemirror_mode": {
    "name": "ipython",
    "version": 3
   },
   "file_extension": ".py",
   "mimetype": "text/x-python",
   "name": "python",
   "nbconvert_exporter": "python",
   "pygments_lexer": "ipython3",
   "version": "3.8.10"
  }
 },
 "nbformat": 4,
 "nbformat_minor": 5
}

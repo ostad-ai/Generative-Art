{
 "cells": [
  {
   "cell_type": "markdown",
   "metadata": {},
   "source": [
    "<h2>Python: <span style=\"color:magenta;\"> Generative Art</span></h2>\n",
    "<hr style='background-color:orange;height:2px'>\n",
    "<b>Title:</b>\n",
    "<span style=\"color:blue;font-size:1.5em;\"> A 2D spiral.</span>\n",
    "<br><span style=\"font-weight:bold;\">Hint:</span>This is a two-dimensional spiral using <code>turtle</code> library of Python.\n",
    "<br><b>Author:</b> <b><span style='color:red;'>Hamed Shah-Hosseini</span></b>, Twitter:<b><span style=\"color:purple\">@chekaad</span></b>, Instagram:<b><span style=\"color:brown;\">@ostad.ai</span></b>\n",
    "<br><a href=\"https://ostad-ai.github.io/\">click here for Github page</a>"
   ]
  },
  {
   "cell_type": "code",
   "execution_count": 72,
   "metadata": {},
   "outputs": [],
   "source": [
    "import turtle\n",
    "screen=turtle.Screen()\n",
    "screen.title('A 2D spiral with turtle')\n",
    "screen.bgcolor('#fafffa')\n",
    "turtle.TurtleScreen._RUNNING=True\n",
    "t=turtle.Turtle()\n",
    "t.pensize(1.5)\n",
    "t.speed(10.1)\n",
    "dis=10.; dDis=4.;angle=121.\n",
    "colors=['#770000','#007700','#000077']\n",
    "for i in range(150):\n",
    "    t.pencolor(colors[i%len(colors)])\n",
    "    t.forward(dis)\n",
    "    t.left(angle)\n",
    "    dis+=dDis\n",
    "screen.exitonclick()"
   ]
  },
  {
   "cell_type": "code",
   "execution_count": null,
   "metadata": {},
   "outputs": [],
   "source": []
  }
 ],
 "metadata": {
  "kernelspec": {
   "display_name": "newtor",
   "language": "python",
   "name": "newtor"
  },
  "language_info": {
   "codemirror_mode": {
    "name": "ipython",
    "version": 3
   },
   "file_extension": ".py",
   "mimetype": "text/x-python",
   "name": "python",
   "nbconvert_exporter": "python",
   "pygments_lexer": "ipython3",
   "version": "3.6.12"
  }
 },
 "nbformat": 4,
 "nbformat_minor": 4
}

{
 "cells": [
  {
   "cell_type": "markdown",
   "metadata": {},
   "source": [
    "### Programmer's day: Sep. 13, 2021\n",
    "##### by Hamed Shah-Hosseini"
   ]
  },
  {
   "cell_type": "code",
   "execution_count": 71,
   "metadata": {},
   "outputs": [],
   "source": [
    "from matplotlib import pyplot as plt\n",
    "import numpy as np\n",
    "from ipywidgets import interact\n",
    "from math import sin,cos"
   ]
  },
  {
   "cell_type": "code",
   "execution_count": 72,
   "metadata": {},
   "outputs": [
    {
     "data": {
      "application/vnd.jupyter.widget-view+json": {
       "model_id": "6af4830f118349b4a3eab3f22d5e61a6",
       "version_major": 2,
       "version_minor": 0
      },
      "text/plain": [
       "interactive(children=(FloatSlider(value=1.0, description='mult', max=10.0, min=0.1), Output()), _dom_classes=(…"
      ]
     },
     "metadata": {},
     "output_type": "display_data"
    },
    {
     "data": {
      "text/plain": [
       "<function __main__.run(mult=1.0)>"
      ]
     },
     "execution_count": 72,
     "metadata": {},
     "output_type": "execute_result"
    }
   ],
   "source": [
    "def run(mult=1.):\n",
    "    rows,cols=200,1000; image=np.zeros((rows,cols))\n",
    "    centR,centC=rows/2,cols/2\n",
    "    for row in range(rows):\n",
    "        for col in range(cols):\n",
    "            teta=mult*((row-centR)*(col-centC))\n",
    "            indicator=(row-centR)*cos(teta)+(col-centC)*sin(teta)\n",
    "            if indicator>0: image[row,col]=1\n",
    "    plt.figure(figsize=(12,3));plt.imshow(image,cmap='gray'); plt.show()\n",
    "interact(run,mult=(.1,10.,.1))"
   ]
  },
  {
   "cell_type": "code",
   "execution_count": null,
   "metadata": {},
   "outputs": [],
   "source": []
  }
 ],
 "metadata": {
  "kernelspec": {
   "display_name": "Python 3",
   "language": "python",
   "name": "python3"
  },
  "language_info": {
   "codemirror_mode": {
    "name": "ipython",
    "version": 3
   },
   "file_extension": ".py",
   "mimetype": "text/x-python",
   "name": "python",
   "nbconvert_exporter": "python",
   "pygments_lexer": "ipython3",
   "version": "3.8.3"
  }
 },
 "nbformat": 4,
 "nbformat_minor": 4
}

{
 "cells": [
  {
   "cell_type": "markdown",
   "metadata": {},
   "source": [
    "### Generative Art: Repeated patterns of concentric circular waves\n",
    "<br> by Hamed Shah-hosseini, Twitter:@chekaad, Instagram:@ostad.ai\n",
    "<br>https://github.com/ostad-ai/Generative-Art"
   ]
  },
  {
   "cell_type": "code",
   "execution_count": 1,
   "metadata": {},
   "outputs": [],
   "source": [
    "import numpy as np\n",
    "from matplotlib import pyplot as plt\n",
    "from numba import njit,prange\n",
    "from math import sin,atan2,sqrt,floor,log2,modf\n",
    "from ipywidgets import interact"
   ]
  },
  {
   "cell_type": "code",
   "execution_count": 2,
   "metadata": {},
   "outputs": [
    {
     "data": {
      "application/vnd.jupyter.widget-view+json": {
       "model_id": "e9627bb247454c7396c48a24ecb09863",
       "version_major": 2,
       "version_minor": 0
      },
      "text/plain": [
       "interactive(children=(FloatSlider(value=5.0, description='freq', max=10.0, min=0.2, step=0.3), FloatSlider(val…"
      ]
     },
     "metadata": {},
     "output_type": "display_data"
    },
    {
     "data": {
      "text/plain": [
       "<function __main__.run(freq, scale)>"
      ]
     },
     "execution_count": 2,
     "metadata": {},
     "output_type": "execute_result"
    }
   ],
   "source": [
    "width,height=640,480; aspect=width/height\n",
    "image=np.zeros((height,width),dtype='int')\n",
    "outimage=np.zeros_like(image)\n",
    "@njit\n",
    "def circle_like(freq,scale,image,outimage):\n",
    "    uv=np.ones(2)\n",
    "    for x in prange(width):\n",
    "        for y in prange(height):\n",
    "            uv[:2]=x/width,y/height\n",
    "            uv=2*uv-1.\n",
    "            uv[0]*=aspect\n",
    "            d=sqrt(uv[0]**2+uv[1]**2); \n",
    "            angle=atan2(uv[1],uv[0]);d+=.1*sin(15*angle)\n",
    "            image[y,x]=int(255*abs(sin(freq*d)))\n",
    "    for x in prange(width):\n",
    "        for y in prange(height):\n",
    "            uv[:2]=x/width,y/height \n",
    "            uv-=.5; uv*=scale\n",
    "            uv=np.abs(uv)\n",
    "            uv*=max(uv[0],uv[1])\n",
    "            uv[0]=width*(uv[0]-int(uv[0]))\n",
    "            uv[1]=height*(uv[1]-int(uv[1]))\n",
    "            outimage[y,x]=image[int(uv[1]),int(uv[0])]\n",
    "def run(freq,scale):\n",
    "    circle_like(freq,scale,image,outimage)\n",
    "    plt.imshow(outimage,cmap='gray')\n",
    "    plt.axis('off');plt.show()    \n",
    "interact(run,freq=(.2,10.,.3),scale=(1.,10.,2.))"
   ]
  },
  {
   "cell_type": "code",
   "execution_count": null,
   "metadata": {},
   "outputs": [],
   "source": []
  }
 ],
 "metadata": {
  "kernelspec": {
   "display_name": "Python 3",
   "language": "python",
   "name": "python3"
  },
  "language_info": {
   "codemirror_mode": {
    "name": "ipython",
    "version": 3
   },
   "file_extension": ".py",
   "mimetype": "text/x-python",
   "name": "python",
   "nbconvert_exporter": "python",
   "pygments_lexer": "ipython3",
   "version": "3.8.3"
  }
 },
 "nbformat": 4,
 "nbformat_minor": 5
}

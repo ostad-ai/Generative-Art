{
 "cells": [
  {
   "cell_type": "markdown",
   "metadata": {},
   "source": [
    "<h2>Python: Generative Art</h2>\n",
    "<hr style='background-color:yellow;height:2px'>\n",
    "<b>Title:</b>\n",
    "<span style='color:blue; font-size:1.2em'> A rainy day in PyGame.</span>\n",
    "<br><b>Hint:</b> We use line segments to simulate rain.\n",
    "<br><b>Author:</b> <span style='color:red; font-weight:bold;'>Hamed Shah-Hosseini</span>, Twitter:@chekaad, Instagram:@ostad.ai"
   ]
  },
  {
   "cell_type": "code",
   "execution_count": 6,
   "metadata": {},
   "outputs": [],
   "source": [
    "import pygame\n",
    "import random\n",
    "import os"
   ]
  },
  {
   "cell_type": "code",
   "execution_count": 5,
   "metadata": {},
   "outputs": [],
   "source": [
    "pygame.init()\n",
    "image=pygame.image.load(os.path.join('images','ezhdeha2.jpg'))\n",
    "width,height=image.get_size()\n",
    "screen=pygame.display.set_mode((width,height),pygame.DOUBLEBUF)\n",
    "pygame.display.set_caption('A rainy day in PyGame, by Hamed Shah-Hosseini'+\\\n",
    "                          ', Twitter:@chekaad, Instagram: @ostad.ai')\n",
    "background=pygame.Surface((width,height))\n",
    "background.fill((0,0,0))\n",
    "background=background.convert()\n",
    "clock=pygame.time.Clock()\n",
    "FPS=30\n",
    "wFlag=True\n",
    "#---------------\n",
    "speed=1.5; dx=9.; dy=13.\n",
    "N=500; xys=[];colors=[]\n",
    "def randXY():\n",
    "    return [1.7*width*random.random(),random.random()*-height/2]\n",
    "for i in range(N):\n",
    "    xys.append(randXY())\n",
    "    colors.append(random.randint(0,100))\n",
    "    \n",
    "def drawLines(surface):\n",
    "    for i in range(N):\n",
    "        x1,y1=xys[i]\n",
    "        x2,y2=x1-dx,y1+dy\n",
    "        pygame.draw.line(surface,(colors[i],colors[i],colors[i]),\n",
    "                                [x1,y1],[x2,y2],width=1)\n",
    "        x1-=speed*dx\n",
    "        y1+=speed*dy\n",
    "        if x1<0 or y1>height:\n",
    "            xys[i]=randXY()\n",
    "        else:\n",
    "            xys[i]=[x1,y1]\n",
    "#----------\n",
    "while wFlag:\n",
    "    clock.tick(FPS)\n",
    "    background.fill((255,255,255))\n",
    "    background.blit(image,(0,0))\n",
    "    drawLines(background)\n",
    "    screen.blit(background,(0,0))  \n",
    "    for event in pygame.event.get():\n",
    "        if event.type == pygame.QUIT:\n",
    "            wFlag = False # pygame window closed by user\n",
    "        elif event.type == pygame.KEYDOWN:\n",
    "            if event.key == pygame.K_ESCAPE:\n",
    "                wFlag = False # user pressed ESC\n",
    "    pygame.display.flip()\n",
    "pygame.quit()"
   ]
  },
  {
   "cell_type": "code",
   "execution_count": null,
   "metadata": {},
   "outputs": [],
   "source": []
  }
 ],
 "metadata": {
  "kernelspec": {
   "display_name": "newtor",
   "language": "python",
   "name": "newtor"
  },
  "language_info": {
   "codemirror_mode": {
    "name": "ipython",
    "version": 3
   },
   "file_extension": ".py",
   "mimetype": "text/x-python",
   "name": "python",
   "nbconvert_exporter": "python",
   "pygments_lexer": "ipython3",
   "version": "3.6.12"
  }
 },
 "nbformat": 4,
 "nbformat_minor": 2
}

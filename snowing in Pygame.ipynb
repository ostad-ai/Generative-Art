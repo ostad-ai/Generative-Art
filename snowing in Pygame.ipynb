{
 "cells": [
  {
   "cell_type": "markdown",
   "metadata": {},
   "source": [
    "<h2>Python: Generative Art</h2>\n",
    "<hr style='background-color:orange;height:3px'>\n",
    "<b>Title:</b>\n",
    "<font size=3 color=blue> Snowing in the old Tehran, with PyGame</font>\n",
    "<br><b>Author:</b> <span style='color:red; font-weight:bold;'>Hamed Shah-Hosseini</span>, Twitter:<b><font color=purple>@chekaad</font></b>, Instagram:<b><font color=brown>@ostad.ai</font></b>\n",
    "<br><a href='https://github.com/ostad-ai/Generative-Art'>Click here for the Generative-Art page on GitHub</a>"
   ]
  },
  {
   "cell_type": "code",
   "execution_count": 19,
   "metadata": {},
   "outputs": [],
   "source": [
    "#importing modules\n",
    "import pygame as pg\n",
    "import random,os,requests\n",
    "from math import sin,pi"
   ]
  },
  {
   "cell_type": "code",
   "execution_count": 20,
   "metadata": {},
   "outputs": [],
   "source": [
    "#downloading the background image, if it doest not exist in your folder\n",
    "image_local_path='./old_photo_of_a_busy_street_in_Tehran.jpg'\n",
    "image_internet_path='https://raw.githubusercontent.com/ostad-ai/Generative-Art/main/Media/old_photo_of_a_busy_street_in_Tehran.jpg'\n",
    "if not os.path.isfile(image_local_path):\n",
    "    with open(image_local_path,'wb') as file:\n",
    "        file.write(requests.get(image_internet_path).content)"
   ]
  },
  {
   "cell_type": "code",
   "execution_count": 21,
   "metadata": {},
   "outputs": [],
   "source": [
    "# the main program, press ESC to exit\n",
    "WIDTH,HEIGHT=1200,737\n",
    "WHITE=(255,255,255)\n",
    "swidth,sheight=30,15\n",
    "#---------\n",
    "pg.init()\n",
    "class Snow:    \n",
    "    def __init__(self,color=WHITE):\n",
    "        self.color=color\n",
    "        self.pos=[0.,0.]\n",
    "        self.reinit()\n",
    "    def reinit(self):\n",
    "        self.pos[1]=-sheight-random.random()*HEIGHT\n",
    "        self.amplitude=swidth+random.random()*(WIDTH/2.)\n",
    "        self.phase=random.random()*2.*pi  \n",
    "        self.size=random.randint(1,3)\n",
    "        self.dy=self.size/2\n",
    "    def update(self,time):\n",
    "        speed=.25\n",
    "        angle=speed*time+self.phase\n",
    "        self.pos[0]=WIDTH/2.+self.amplitude*sin(angle)\n",
    "        self.pos[1]+=self.dy\n",
    "        if self.pos[1]>HEIGHT+self.size:\n",
    "            self.reinit()            \n",
    "    def draw(self,surface):\n",
    "        pg.draw.circle(surface,self.color,self.pos,self.size)\n",
    "def write(msg='https://github.com/ostad-ai/Generative-Art'):\n",
    "    myfont = pg.font.SysFont('Arial', 50)\n",
    "    mytext = myfont.render(msg, True, WHITE)\n",
    "    mytext = mytext.convert_alpha()\n",
    "    return mytext\n",
    "screen=pg.display.set_mode((WIDTH,HEIGHT))\n",
    "pg.display.set_caption('Snowing in Old Tehran (in 1950s), by Hamed Shah-Hosseini'+\\\n",
    "                          ', Twitter:@chekaad, Instagram: @ostad.ai')\n",
    "image=pg.image.load(image_local_path)\n",
    "image=image.convert_alpha()\n",
    "#------------\n",
    "clock=pg.time.Clock()\n",
    "message=write()\n",
    "FPS=100\n",
    "flag=True\n",
    "#---------------\n",
    "timePassed=0.\n",
    "N=WIDTH\n",
    "snowflakes=[]\n",
    "for i in range(N):\n",
    "    snowflakes.append(Snow())\n",
    "while flag:\n",
    "    timePassed+=.001*clock.tick(FPS)\n",
    "    screen.blit(image,(0,0))\n",
    "    screen.blit(message,(10,10))\n",
    "    for flake in snowflakes:\n",
    "        flake.update(timePassed)\n",
    "        flake.draw(screen)\n",
    "    for event in pg.event.get():\n",
    "        if event.type == pg.QUIT:\n",
    "            flag = False # window closed by user\n",
    "        elif event.type == pg.KEYDOWN:\n",
    "            if event.key == pg.K_ESCAPE:\n",
    "                flag = False # user pressed ESC\n",
    "    pg.display.flip()\n",
    "pg.quit()"
   ]
  },
  {
   "cell_type": "code",
   "execution_count": null,
   "metadata": {},
   "outputs": [],
   "source": []
  }
 ],
 "metadata": {
  "kernelspec": {
   "display_name": "Python 3",
   "language": "python",
   "name": "python3"
  },
  "language_info": {
   "codemirror_mode": {
    "name": "ipython",
    "version": 3
   },
   "file_extension": ".py",
   "mimetype": "text/x-python",
   "name": "python",
   "nbconvert_exporter": "python",
   "pygments_lexer": "ipython3",
   "version": "3.8.15"
  }
 },
 "nbformat": 4,
 "nbformat_minor": 2
}
